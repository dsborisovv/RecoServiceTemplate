{
 "cells": [
  {
   "cell_type": "code",
   "execution_count": 1,
   "id": "f09fa212",
   "metadata": {
    "ExecuteTime": {
     "end_time": "2023-12-26T22:52:26.712080Z",
     "start_time": "2023-12-26T22:52:23.810556Z"
    }
   },
   "outputs": [],
   "source": [
    "import json\n",
    "\n",
    "import pandas as pd"
   ]
  },
  {
   "cell_type": "code",
   "execution_count": 2,
   "id": "7a06e6cf",
   "metadata": {
    "ExecuteTime": {
     "end_time": "2023-12-26T22:54:26.777076Z",
     "start_time": "2023-12-26T22:52:28.317315Z"
    }
   },
   "outputs": [],
   "source": [
    "df = pd.read_csv(\"C:/Users/Xiaomi/Downloads/final_predict.csv\", sep=\";\")"
   ]
  },
  {
   "cell_type": "code",
   "execution_count": 3,
   "id": "5ffc7c9c",
   "metadata": {
    "ExecuteTime": {
     "end_time": "2023-12-26T22:54:27.002695Z",
     "start_time": "2023-12-26T22:54:26.880243Z"
    }
   },
   "outputs": [
    {
     "data": {
      "text/plain": [
       "(15636711, 25)"
      ]
     },
     "execution_count": 3,
     "metadata": {},
     "output_type": "execute_result"
    }
   ],
   "source": [
    "df.shape"
   ]
  },
  {
   "cell_type": "code",
   "execution_count": 4,
   "id": "3d7e31d8",
   "metadata": {
    "ExecuteTime": {
     "end_time": "2023-12-26T22:54:27.313352Z",
     "start_time": "2023-12-26T22:54:27.011440Z"
    }
   },
   "outputs": [
    {
     "data": {
      "text/html": [
       "<div>\n",
       "<style scoped>\n",
       "    .dataframe tbody tr th:only-of-type {\n",
       "        vertical-align: middle;\n",
       "    }\n",
       "\n",
       "    .dataframe tbody tr th {\n",
       "        vertical-align: top;\n",
       "    }\n",
       "\n",
       "    .dataframe thead th {\n",
       "        text-align: right;\n",
       "    }\n",
       "</style>\n",
       "<table border=\"1\" class=\"dataframe\">\n",
       "  <thead>\n",
       "    <tr style=\"text-align: right;\">\n",
       "      <th></th>\n",
       "      <th>user_id</th>\n",
       "      <th>item_id</th>\n",
       "      <th>datetime</th>\n",
       "      <th>total_dur</th>\n",
       "      <th>weight</th>\n",
       "      <th>rank</th>\n",
       "      <th>age</th>\n",
       "      <th>income</th>\n",
       "      <th>sex</th>\n",
       "      <th>kids_flg</th>\n",
       "      <th>...</th>\n",
       "      <th>for_kids</th>\n",
       "      <th>age_rating</th>\n",
       "      <th>studios</th>\n",
       "      <th>item_pop</th>\n",
       "      <th>item_avg_hist</th>\n",
       "      <th>target_ranker</th>\n",
       "      <th>listwise_score</th>\n",
       "      <th>listwise_rank</th>\n",
       "      <th>listwise_hybrid_score</th>\n",
       "      <th>listwise_hybrid_rank</th>\n",
       "    </tr>\n",
       "  </thead>\n",
       "  <tbody>\n",
       "    <tr>\n",
       "      <th>0</th>\n",
       "      <td>439884</td>\n",
       "      <td>15297</td>\n",
       "      <td>2021-07-01</td>\n",
       "      <td>0.0</td>\n",
       "      <td>0.0</td>\n",
       "      <td>1</td>\n",
       "      <td>2</td>\n",
       "      <td>2</td>\n",
       "      <td>0</td>\n",
       "      <td>1</td>\n",
       "      <td>...</td>\n",
       "      <td>-1</td>\n",
       "      <td>18.0</td>\n",
       "      <td>-1</td>\n",
       "      <td>137128.0</td>\n",
       "      <td>7.364295</td>\n",
       "      <td>0</td>\n",
       "      <td>2.074702</td>\n",
       "      <td>1</td>\n",
       "      <td>2.074702</td>\n",
       "      <td>1</td>\n",
       "    </tr>\n",
       "    <tr>\n",
       "      <th>1</th>\n",
       "      <td>439884</td>\n",
       "      <td>13865</td>\n",
       "      <td>2021-07-01</td>\n",
       "      <td>0.0</td>\n",
       "      <td>0.0</td>\n",
       "      <td>3</td>\n",
       "      <td>2</td>\n",
       "      <td>2</td>\n",
       "      <td>0</td>\n",
       "      <td>1</td>\n",
       "      <td>...</td>\n",
       "      <td>-1</td>\n",
       "      <td>12.0</td>\n",
       "      <td>-1</td>\n",
       "      <td>93403.0</td>\n",
       "      <td>10.408520</td>\n",
       "      <td>0</td>\n",
       "      <td>0.826291</td>\n",
       "      <td>2</td>\n",
       "      <td>0.826291</td>\n",
       "      <td>2</td>\n",
       "    </tr>\n",
       "    <tr>\n",
       "      <th>2</th>\n",
       "      <td>439884</td>\n",
       "      <td>16228</td>\n",
       "      <td>2021-07-01</td>\n",
       "      <td>0.0</td>\n",
       "      <td>0.0</td>\n",
       "      <td>29</td>\n",
       "      <td>2</td>\n",
       "      <td>2</td>\n",
       "      <td>0</td>\n",
       "      <td>1</td>\n",
       "      <td>...</td>\n",
       "      <td>0</td>\n",
       "      <td>18.0</td>\n",
       "      <td>-1</td>\n",
       "      <td>7322.0</td>\n",
       "      <td>9.994127</td>\n",
       "      <td>0</td>\n",
       "      <td>0.534265</td>\n",
       "      <td>3</td>\n",
       "      <td>0.534265</td>\n",
       "      <td>3</td>\n",
       "    </tr>\n",
       "    <tr>\n",
       "      <th>3</th>\n",
       "      <td>439884</td>\n",
       "      <td>16166</td>\n",
       "      <td>2021-07-01</td>\n",
       "      <td>0.0</td>\n",
       "      <td>0.0</td>\n",
       "      <td>44</td>\n",
       "      <td>2</td>\n",
       "      <td>2</td>\n",
       "      <td>0</td>\n",
       "      <td>1</td>\n",
       "      <td>...</td>\n",
       "      <td>-1</td>\n",
       "      <td>6.0</td>\n",
       "      <td>-1</td>\n",
       "      <td>8522.0</td>\n",
       "      <td>20.144802</td>\n",
       "      <td>0</td>\n",
       "      <td>-1.280527</td>\n",
       "      <td>4</td>\n",
       "      <td>-1.280527</td>\n",
       "      <td>4</td>\n",
       "    </tr>\n",
       "    <tr>\n",
       "      <th>4</th>\n",
       "      <td>439884</td>\n",
       "      <td>14431</td>\n",
       "      <td>2021-07-01</td>\n",
       "      <td>0.0</td>\n",
       "      <td>0.0</td>\n",
       "      <td>18</td>\n",
       "      <td>2</td>\n",
       "      <td>2</td>\n",
       "      <td>0</td>\n",
       "      <td>1</td>\n",
       "      <td>...</td>\n",
       "      <td>-1</td>\n",
       "      <td>16.0</td>\n",
       "      <td>-1</td>\n",
       "      <td>18300.0</td>\n",
       "      <td>16.277213</td>\n",
       "      <td>0</td>\n",
       "      <td>-1.431684</td>\n",
       "      <td>5</td>\n",
       "      <td>-1.431684</td>\n",
       "      <td>5</td>\n",
       "    </tr>\n",
       "  </tbody>\n",
       "</table>\n",
       "<p>5 rows × 25 columns</p>\n",
       "</div>"
      ],
      "text/plain": [
       "   user_id  item_id    datetime  total_dur  weight  rank  age  income  sex  \\\n",
       "0   439884    15297  2021-07-01        0.0     0.0     1    2       2    0   \n",
       "1   439884    13865  2021-07-01        0.0     0.0     3    2       2    0   \n",
       "2   439884    16228  2021-07-01        0.0     0.0    29    2       2    0   \n",
       "3   439884    16166  2021-07-01        0.0     0.0    44    2       2    0   \n",
       "4   439884    14431  2021-07-01        0.0     0.0    18    2       2    0   \n",
       "\n",
       "   kids_flg  ...  for_kids  age_rating  studios  item_pop  item_avg_hist  \\\n",
       "0         1  ...        -1        18.0       -1  137128.0       7.364295   \n",
       "1         1  ...        -1        12.0       -1   93403.0      10.408520   \n",
       "2         1  ...         0        18.0       -1    7322.0       9.994127   \n",
       "3         1  ...        -1         6.0       -1    8522.0      20.144802   \n",
       "4         1  ...        -1        16.0       -1   18300.0      16.277213   \n",
       "\n",
       "   target_ranker  listwise_score  listwise_rank  listwise_hybrid_score  \\\n",
       "0              0        2.074702              1               2.074702   \n",
       "1              0        0.826291              2               0.826291   \n",
       "2              0        0.534265              3               0.534265   \n",
       "3              0       -1.280527              4              -1.280527   \n",
       "4              0       -1.431684              5              -1.431684   \n",
       "\n",
       "   listwise_hybrid_rank  \n",
       "0                     1  \n",
       "1                     2  \n",
       "2                     3  \n",
       "3                     4  \n",
       "4                     5  \n",
       "\n",
       "[5 rows x 25 columns]"
      ]
     },
     "execution_count": 4,
     "metadata": {},
     "output_type": "execute_result"
    }
   ],
   "source": [
    "df.head()"
   ]
  },
  {
   "cell_type": "code",
   "execution_count": 9,
   "id": "436877b0",
   "metadata": {
    "ExecuteTime": {
     "end_time": "2023-12-26T22:59:44.043630Z",
     "start_time": "2023-12-26T22:59:28.632288Z"
    }
   },
   "outputs": [],
   "source": [
    "group_df = df.groupby(\"user_id\", as_index=False).agg(\n",
    "    {\"item_id\": lambda x: list(x)[:10]}\n",
    ")"
   ]
  },
  {
   "cell_type": "code",
   "execution_count": 12,
   "id": "cf3072bd",
   "metadata": {
    "ExecuteTime": {
     "end_time": "2023-12-26T23:00:36.402945Z",
     "start_time": "2023-12-26T23:00:36.034757Z"
    }
   },
   "outputs": [
    {
     "data": {
      "text/html": [
       "<div>\n",
       "<style scoped>\n",
       "    .dataframe tbody tr th:only-of-type {\n",
       "        vertical-align: middle;\n",
       "    }\n",
       "\n",
       "    .dataframe tbody tr th {\n",
       "        vertical-align: top;\n",
       "    }\n",
       "\n",
       "    .dataframe thead th {\n",
       "        text-align: right;\n",
       "    }\n",
       "</style>\n",
       "<table border=\"1\" class=\"dataframe\">\n",
       "  <thead>\n",
       "    <tr style=\"text-align: right;\">\n",
       "      <th></th>\n",
       "      <th>user_id</th>\n",
       "      <th>item_id</th>\n",
       "      <th>len</th>\n",
       "    </tr>\n",
       "  </thead>\n",
       "  <tbody>\n",
       "  </tbody>\n",
       "</table>\n",
       "</div>"
      ],
      "text/plain": [
       "Empty DataFrame\n",
       "Columns: [user_id, item_id, len]\n",
       "Index: []"
      ]
     },
     "execution_count": 12,
     "metadata": {},
     "output_type": "execute_result"
    }
   ],
   "source": [
    "group_df[\"len\"] = group_df[\"item_id\"].apply(lambda x: len(x))\n",
    "group_df[group_df[\"len\"] != 10]"
   ]
  },
  {
   "cell_type": "code",
   "execution_count": 14,
   "id": "3a44e282",
   "metadata": {
    "ExecuteTime": {
     "end_time": "2023-12-26T23:08:29.370430Z",
     "start_time": "2023-12-26T23:08:29.191724Z"
    }
   },
   "outputs": [
    {
     "data": {
      "text/html": [
       "<div>\n",
       "<style scoped>\n",
       "    .dataframe tbody tr th:only-of-type {\n",
       "        vertical-align: middle;\n",
       "    }\n",
       "\n",
       "    .dataframe tbody tr th {\n",
       "        vertical-align: top;\n",
       "    }\n",
       "\n",
       "    .dataframe thead th {\n",
       "        text-align: right;\n",
       "    }\n",
       "</style>\n",
       "<table border=\"1\" class=\"dataframe\">\n",
       "  <thead>\n",
       "    <tr style=\"text-align: right;\">\n",
       "      <th></th>\n",
       "      <th>user_id</th>\n",
       "      <th>item_id</th>\n",
       "      <th>len</th>\n",
       "    </tr>\n",
       "  </thead>\n",
       "  <tbody>\n",
       "    <tr>\n",
       "      <th>0</th>\n",
       "      <td>437491</td>\n",
       "      <td>[9728, 15297, 10440, 3734, 13865, 12192, 4151,...</td>\n",
       "      <td>10</td>\n",
       "    </tr>\n",
       "    <tr>\n",
       "      <th>1</th>\n",
       "      <td>437492</td>\n",
       "      <td>[15297, 10440, 9728, 16228, 3734, 12192, 4151,...</td>\n",
       "      <td>10</td>\n",
       "    </tr>\n",
       "    <tr>\n",
       "      <th>2</th>\n",
       "      <td>437504</td>\n",
       "      <td>[15297, 10440, 9728, 3734, 13865, 4151, 12192,...</td>\n",
       "      <td>10</td>\n",
       "    </tr>\n",
       "    <tr>\n",
       "      <th>3</th>\n",
       "      <td>437523</td>\n",
       "      <td>[9728, 15297, 10440, 13865, 12192, 4151, 7829,...</td>\n",
       "      <td>10</td>\n",
       "    </tr>\n",
       "    <tr>\n",
       "      <th>4</th>\n",
       "      <td>437532</td>\n",
       "      <td>[9728, 15297, 10440, 3734, 13865, 12192, 4151,...</td>\n",
       "      <td>10</td>\n",
       "    </tr>\n",
       "  </tbody>\n",
       "</table>\n",
       "</div>"
      ],
      "text/plain": [
       "   user_id                                            item_id  len\n",
       "0   437491  [9728, 15297, 10440, 3734, 13865, 12192, 4151,...   10\n",
       "1   437492  [15297, 10440, 9728, 16228, 3734, 12192, 4151,...   10\n",
       "2   437504  [15297, 10440, 9728, 3734, 13865, 4151, 12192,...   10\n",
       "3   437523  [9728, 15297, 10440, 13865, 12192, 4151, 7829,...   10\n",
       "4   437532  [9728, 15297, 10440, 3734, 13865, 12192, 4151,...   10"
      ]
     },
     "execution_count": 14,
     "metadata": {},
     "output_type": "execute_result"
    }
   ],
   "source": [
    "group_df.head()"
   ]
  },
  {
   "cell_type": "code",
   "execution_count": 13,
   "id": "da15e408",
   "metadata": {
    "ExecuteTime": {
     "end_time": "2023-12-26T23:02:13.304400Z",
     "start_time": "2023-12-26T23:02:01.950071Z"
    }
   },
   "outputs": [],
   "source": [
    "with open(\"C:/Users/Xiaomi/Downloads/ranker.json\", \"w\") as file:\n",
    "    json.dump(\n",
    "        dict(zip(group_df[\"user_id\"].tolist(), group_df[\"item_id\"].tolist())), file\n",
    "    )"
   ]
  },
  {
   "cell_type": "code",
   "execution_count": 22,
   "id": "3600c410",
   "metadata": {
    "ExecuteTime": {
     "end_time": "2023-12-26T23:29:36.556449Z",
     "start_time": "2023-12-26T23:29:30.828699Z"
    }
   },
   "outputs": [],
   "source": [
    "with open(\"C:/Users/Xiaomi/Downloads/ranker.json\", \"r\") as file:\n",
    "    RANKER_RECOS = json.loads(file.read())"
   ]
  },
  {
   "cell_type": "code",
   "execution_count": 27,
   "id": "32106871",
   "metadata": {
    "ExecuteTime": {
     "end_time": "2023-12-26T23:31:46.080242Z",
     "start_time": "2023-12-26T23:31:46.060585Z"
    }
   },
   "outputs": [
    {
     "data": {
      "text/plain": [
       "[15297, 10440, 9728, 3734, 13865, 4151, 12192, 16228, 7829, 142]"
      ]
     },
     "execution_count": 27,
     "metadata": {},
     "output_type": "execute_result"
    }
   ],
   "source": [
    "RANKER_RECOS.get(\"437504\")"
   ]
  },
  {
   "cell_type": "code",
   "execution_count": null,
   "id": "b52573f1",
   "metadata": {},
   "outputs": [],
   "source": []
  }
 ],
 "metadata": {
  "kernelspec": {
   "display_name": "fa-ml-course",
   "language": "python",
   "name": "fa-ml-course"
  },
  "language_info": {
   "codemirror_mode": {
    "name": "ipython",
    "version": 3
   },
   "file_extension": ".py",
   "mimetype": "text/x-python",
   "name": "python",
   "nbconvert_exporter": "python",
   "pygments_lexer": "ipython3",
   "version": "3.7.12"
  },
  "toc": {
   "base_numbering": 1,
   "nav_menu": {},
   "number_sections": true,
   "sideBar": true,
   "skip_h1_title": false,
   "title_cell": "Table of Contents",
   "title_sidebar": "Contents",
   "toc_cell": false,
   "toc_position": {},
   "toc_section_display": true,
   "toc_window_display": false
  }
 },
 "nbformat": 4,
 "nbformat_minor": 5
}
